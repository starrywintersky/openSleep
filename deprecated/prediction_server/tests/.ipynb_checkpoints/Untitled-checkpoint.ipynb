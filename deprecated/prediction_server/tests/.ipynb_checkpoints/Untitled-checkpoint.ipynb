{
 "cells": [
  {
   "cell_type": "code",
   "execution_count": 1,
   "metadata": {},
   "outputs": [],
   "source": [
    "#Setup Code\n",
    "import requests\n",
    "URL = 'http://localhost:5000/'\n",
    "#URL = 'http://68.183.114.149:5000/'\n",
    "\n",
    "unique_device_identifier = \"user1\" # replace with the device identifier you want to look at\n",
    "date_and_time_of_session= \"\" #replace with the date and time of the session you want to look at\n",
    "                            #format is: \"YearMonthDay_HourMinuteSecond\"\n",
    "\n",
    "# or continue to get all the date time's associated with a particular device uuid"
   ]
  },
  {
   "cell_type": "code",
   "execution_count": 6,
   "metadata": {},
   "outputs": [
    {
     "name": "stdout",
     "output_type": "stream",
     "text": [
      "<bound method Response.json of <Response [200]>>\n"
     ]
    }
   ],
   "source": [
    "r = requests.get(URL + 'getUsers', params = None)\n",
    "print(r.text)"
   ]
  },
  {
   "cell_type": "code",
   "execution_count": null,
   "metadata": {},
   "outputs": [],
   "source": []
  }
 ],
 "metadata": {
  "kernelspec": {
   "display_name": "Python 3",
   "language": "python",
   "name": "python3"
  },
  "language_info": {
   "codemirror_mode": {
    "name": "ipython",
    "version": 3
   },
   "file_extension": ".py",
   "mimetype": "text/x-python",
   "name": "python",
   "nbconvert_exporter": "python",
   "pygments_lexer": "ipython3",
   "version": "3.6.0"
  }
 },
 "nbformat": 4,
 "nbformat_minor": 2
}
